{
 "cells": [
  {
   "cell_type": "markdown",
   "id": "4cd5e01e",
   "metadata": {},
   "source": [
    "# Data Analysis project\n",
    "Dataset : Australia Real Estate data"
   ]
  },
  {
   "cell_type": "markdown",
   "id": "0ee37af7",
   "metadata": {},
   "source": [
    "#### Step 1: Import Libraries and Load Data"
   ]
  },
  {
   "cell_type": "code",
   "execution_count": 1,
   "id": "7af98a2f",
   "metadata": {},
   "outputs": [],
   "source": [
    "#Import Dependencies\n",
    "import pandas as pd\n",
    "import numpy as np\n",
    "import seaborn as sns\n",
    "\n",
    "from scipy import stats\n",
    "from matplotlib import pyplot as plt"
   ]
  },
  {
   "cell_type": "code",
   "execution_count": 2,
   "id": "26842e69",
   "metadata": {},
   "outputs": [
    {
     "data": {
      "text/html": [
       "<div>\n",
       "<style scoped>\n",
       "    .dataframe tbody tr th:only-of-type {\n",
       "        vertical-align: middle;\n",
       "    }\n",
       "\n",
       "    .dataframe tbody tr th {\n",
       "        vertical-align: top;\n",
       "    }\n",
       "\n",
       "    .dataframe thead th {\n",
       "        text-align: right;\n",
       "    }\n",
       "</style>\n",
       "<table border=\"1\" class=\"dataframe\">\n",
       "  <thead>\n",
       "    <tr style=\"text-align: right;\">\n",
       "      <th></th>\n",
       "      <th>Price</th>\n",
       "      <th>Bedrooms</th>\n",
       "      <th>Bathrooms</th>\n",
       "      <th>SqFt</th>\n",
       "      <th>City</th>\n",
       "      <th>State</th>\n",
       "      <th>Year_Built</th>\n",
       "      <th>Type</th>\n",
       "      <th>Garage</th>\n",
       "      <th>Lot_Area</th>\n",
       "    </tr>\n",
       "  </thead>\n",
       "  <tbody>\n",
       "    <tr>\n",
       "      <th>0</th>\n",
       "      <td>982112</td>\n",
       "      <td>4</td>\n",
       "      <td>1</td>\n",
       "      <td>1561</td>\n",
       "      <td>Adelaide</td>\n",
       "      <td>QLD</td>\n",
       "      <td>2021</td>\n",
       "      <td>Townhouse</td>\n",
       "      <td>0</td>\n",
       "      <td>1357</td>\n",
       "    </tr>\n",
       "    <tr>\n",
       "      <th>1</th>\n",
       "      <td>571388</td>\n",
       "      <td>3</td>\n",
       "      <td>2</td>\n",
       "      <td>3735</td>\n",
       "      <td>Melbourne</td>\n",
       "      <td>VIC</td>\n",
       "      <td>1999</td>\n",
       "      <td>House</td>\n",
       "      <td>1</td>\n",
       "      <td>8397</td>\n",
       "    </tr>\n",
       "    <tr>\n",
       "      <th>2</th>\n",
       "      <td>866821</td>\n",
       "      <td>5</td>\n",
       "      <td>1</td>\n",
       "      <td>2032</td>\n",
       "      <td>Sydney</td>\n",
       "      <td>VIC</td>\n",
       "      <td>1976</td>\n",
       "      <td>Townhouse</td>\n",
       "      <td>0</td>\n",
       "      <td>3478</td>\n",
       "    </tr>\n",
       "    <tr>\n",
       "      <th>3</th>\n",
       "      <td>1230977</td>\n",
       "      <td>4</td>\n",
       "      <td>3</td>\n",
       "      <td>3861</td>\n",
       "      <td>Brisbane</td>\n",
       "      <td>SA</td>\n",
       "      <td>1978</td>\n",
       "      <td>House</td>\n",
       "      <td>0</td>\n",
       "      <td>7619</td>\n",
       "    </tr>\n",
       "    <tr>\n",
       "      <th>4</th>\n",
       "      <td>241787</td>\n",
       "      <td>4</td>\n",
       "      <td>2</td>\n",
       "      <td>3150</td>\n",
       "      <td>Perth</td>\n",
       "      <td>SA</td>\n",
       "      <td>1992</td>\n",
       "      <td>Apartment</td>\n",
       "      <td>0</td>\n",
       "      <td>8324</td>\n",
       "    </tr>\n",
       "    <tr>\n",
       "      <th>5</th>\n",
       "      <td>631871</td>\n",
       "      <td>4</td>\n",
       "      <td>2</td>\n",
       "      <td>1923</td>\n",
       "      <td>Brisbane</td>\n",
       "      <td>SA</td>\n",
       "      <td>2002</td>\n",
       "      <td>House</td>\n",
       "      <td>1</td>\n",
       "      <td>6638</td>\n",
       "    </tr>\n",
       "    <tr>\n",
       "      <th>6</th>\n",
       "      <td>550777</td>\n",
       "      <td>4</td>\n",
       "      <td>1</td>\n",
       "      <td>829</td>\n",
       "      <td>Adelaide</td>\n",
       "      <td>QLD</td>\n",
       "      <td>2022</td>\n",
       "      <td>Townhouse</td>\n",
       "      <td>0</td>\n",
       "      <td>2752</td>\n",
       "    </tr>\n",
       "    <tr>\n",
       "      <th>7</th>\n",
       "      <td>1509971</td>\n",
       "      <td>1</td>\n",
       "      <td>1</td>\n",
       "      <td>2447</td>\n",
       "      <td>Brisbane</td>\n",
       "      <td>QLD</td>\n",
       "      <td>1967</td>\n",
       "      <td>Apartment</td>\n",
       "      <td>1</td>\n",
       "      <td>2792</td>\n",
       "    </tr>\n",
       "    <tr>\n",
       "      <th>8</th>\n",
       "      <td>935088</td>\n",
       "      <td>4</td>\n",
       "      <td>2</td>\n",
       "      <td>3652</td>\n",
       "      <td>Melbourne</td>\n",
       "      <td>QLD</td>\n",
       "      <td>1985</td>\n",
       "      <td>House</td>\n",
       "      <td>0</td>\n",
       "      <td>1645</td>\n",
       "    </tr>\n",
       "    <tr>\n",
       "      <th>9</th>\n",
       "      <td>999053</td>\n",
       "      <td>1</td>\n",
       "      <td>1</td>\n",
       "      <td>3114</td>\n",
       "      <td>Sydney</td>\n",
       "      <td>NSW</td>\n",
       "      <td>1962</td>\n",
       "      <td>House</td>\n",
       "      <td>0</td>\n",
       "      <td>4195</td>\n",
       "    </tr>\n",
       "  </tbody>\n",
       "</table>\n",
       "</div>"
      ],
      "text/plain": [
       "     Price  Bedrooms  Bathrooms  SqFt       City State  Year_Built       Type  \\\n",
       "0   982112         4          1  1561   Adelaide   QLD        2021  Townhouse   \n",
       "1   571388         3          2  3735  Melbourne   VIC        1999      House   \n",
       "2   866821         5          1  2032     Sydney   VIC        1976  Townhouse   \n",
       "3  1230977         4          3  3861   Brisbane    SA        1978      House   \n",
       "4   241787         4          2  3150      Perth    SA        1992  Apartment   \n",
       "5   631871         4          2  1923   Brisbane    SA        2002      House   \n",
       "6   550777         4          1   829   Adelaide   QLD        2022  Townhouse   \n",
       "7  1509971         1          1  2447   Brisbane   QLD        1967  Apartment   \n",
       "8   935088         4          2  3652  Melbourne   QLD        1985      House   \n",
       "9   999053         1          1  3114     Sydney   NSW        1962      House   \n",
       "\n",
       "   Garage  Lot_Area  \n",
       "0       0      1357  \n",
       "1       1      8397  \n",
       "2       0      3478  \n",
       "3       0      7619  \n",
       "4       0      8324  \n",
       "5       1      6638  \n",
       "6       0      2752  \n",
       "7       1      2792  \n",
       "8       0      1645  \n",
       "9       0      4195  "
      ]
     },
     "execution_count": 2,
     "metadata": {},
     "output_type": "execute_result"
    }
   ],
   "source": [
    "#Load Australin Real Estate dataset to pandas\n",
    "proprty_data = pd.read_csv(\"../Resources/aus_real_estate.csv\")\n",
    "proprty_data.head(10)"
   ]
  },
  {
   "cell_type": "markdown",
   "id": "505b923e",
   "metadata": {},
   "source": [
    "#### Step 2: Data Exploration"
   ]
  },
  {
   "cell_type": "code",
   "execution_count": 3,
   "id": "d69200d5",
   "metadata": {},
   "outputs": [
    {
     "name": "stdout",
     "output_type": "stream",
     "text": [
      "<class 'pandas.core.frame.DataFrame'>\n",
      "RangeIndex: 5000 entries, 0 to 4999\n",
      "Data columns (total 10 columns):\n",
      " #   Column      Non-Null Count  Dtype \n",
      "---  ------      --------------  ----- \n",
      " 0   Price       5000 non-null   int64 \n",
      " 1   Bedrooms    5000 non-null   int64 \n",
      " 2   Bathrooms   5000 non-null   int64 \n",
      " 3   SqFt        5000 non-null   int64 \n",
      " 4   City        5000 non-null   object\n",
      " 5   State       5000 non-null   object\n",
      " 6   Year_Built  5000 non-null   int64 \n",
      " 7   Type        5000 non-null   object\n",
      " 8   Garage      5000 non-null   int64 \n",
      " 9   Lot_Area    5000 non-null   int64 \n",
      "dtypes: int64(7), object(3)\n",
      "memory usage: 390.8+ KB\n"
     ]
    }
   ],
   "source": [
    "# Basic information about the data\n",
    "proprty_data.info()"
   ]
  },
  {
   "cell_type": "code",
   "execution_count": 4,
   "id": "52698b4e",
   "metadata": {},
   "outputs": [
    {
     "data": {
      "text/plain": [
       "Price         0\n",
       "Bedrooms      0\n",
       "Bathrooms     0\n",
       "SqFt          0\n",
       "City          0\n",
       "State         0\n",
       "Year_Built    0\n",
       "Type          0\n",
       "Garage        0\n",
       "Lot_Area      0\n",
       "dtype: int64"
      ]
     },
     "execution_count": 4,
     "metadata": {},
     "output_type": "execute_result"
    }
   ],
   "source": [
    "#check for missing values\n",
    "proprty_data.isnull().sum()"
   ]
  },
  {
   "cell_type": "code",
   "execution_count": 5,
   "id": "f5b163c2",
   "metadata": {},
   "outputs": [
    {
     "data": {
      "text/plain": [
       "array(['QLD', 'VIC', 'SA', 'NSW', 'WA'], dtype=object)"
      ]
     },
     "execution_count": 5,
     "metadata": {},
     "output_type": "execute_result"
    }
   ],
   "source": [
    "#Checking the state names listed under State column\n",
    "proprty_data[\"State\"].unique()"
   ]
  },
  {
   "cell_type": "code",
   "execution_count": 6,
   "id": "08300974",
   "metadata": {},
   "outputs": [
    {
     "data": {
      "text/plain": [
       "array(['Adelaide', 'Melbourne', 'Sydney', 'Brisbane', 'Perth'],\n",
       "      dtype=object)"
      ]
     },
     "execution_count": 6,
     "metadata": {},
     "output_type": "execute_result"
    }
   ],
   "source": [
    "#Checking the City names listed under City column\n",
    "proprty_data[\"City\"].unique()"
   ]
  },
  {
   "cell_type": "code",
   "execution_count": 7,
   "id": "2834447e",
   "metadata": {},
   "outputs": [
    {
     "data": {
      "text/plain": [
       "array(['Townhouse', 'House', 'Apartment'], dtype=object)"
      ]
     },
     "execution_count": 7,
     "metadata": {},
     "output_type": "execute_result"
    }
   ],
   "source": [
    "#Checking the types of proprties listed under Type column\n",
    "proprty_data[\"Type\"].unique()"
   ]
  },
  {
   "cell_type": "code",
   "execution_count": 8,
   "id": "3e288438",
   "metadata": {},
   "outputs": [
    {
     "data": {
      "text/plain": [
       "array([4, 3, 5, 1, 2], dtype=int64)"
      ]
     },
     "execution_count": 8,
     "metadata": {},
     "output_type": "execute_result"
    }
   ],
   "source": [
    "proprty_data[\"Bedrooms\"].unique()"
   ]
  },
  {
   "cell_type": "code",
   "execution_count": 9,
   "id": "c3115a5b",
   "metadata": {},
   "outputs": [
    {
     "data": {
      "text/plain": [
       "array([2021, 1999, 1976, 1978, 1992, 2002, 2022, 1967, 1985, 1962, 1972,\n",
       "       1995, 1955, 1989, 1993, 1988, 2013, 1991, 1964, 1966, 2014, 2000,\n",
       "       1984, 2016, 1970, 2012, 2019, 1982, 2015, 1980, 1975, 1958, 1950,\n",
       "       1965, 2018, 1971, 2020, 1996, 2010, 1963, 1987, 2009, 2007, 1960,\n",
       "       1994, 1997, 2003, 1977, 2011, 1953, 1981, 1951, 2004, 1954, 1952,\n",
       "       1959, 1990, 1979, 2006, 1968, 2017, 1986, 1957, 1969, 2008, 2001,\n",
       "       2005, 1973, 1961, 1974, 1983, 1956, 1998], dtype=int64)"
      ]
     },
     "execution_count": 9,
     "metadata": {},
     "output_type": "execute_result"
    }
   ],
   "source": [
    "#Geting the unique years from data frame\n",
    "year_list = proprty_data[\"Year_Built\"].unique()\n",
    "year_list"
   ]
  },
  {
   "cell_type": "code",
   "execution_count": 10,
   "id": "dcd127ee",
   "metadata": {},
   "outputs": [
    {
     "data": {
      "text/plain": [
       "array([1950, 1951, 1952, 1953, 1954, 1955, 1956, 1957, 1958, 1959, 1960,\n",
       "       1961, 1962, 1963, 1964, 1965, 1966, 1967, 1968, 1969, 1970, 1971,\n",
       "       1972, 1973, 1974, 1975, 1976, 1977, 1978, 1979, 1980, 1981, 1982,\n",
       "       1983, 1984, 1985, 1986, 1987, 1988, 1989, 1990, 1991, 1992, 1993,\n",
       "       1994, 1995, 1996, 1997, 1998, 1999, 2000, 2001, 2002, 2003, 2004,\n",
       "       2005, 2006, 2007, 2008, 2009, 2010, 2011, 2012, 2013, 2014, 2015,\n",
       "       2016, 2017, 2018, 2019, 2020, 2021, 2022], dtype=int64)"
      ]
     },
     "execution_count": 10,
     "metadata": {},
     "output_type": "execute_result"
    }
   ],
   "source": [
    "#Sorting the years to see starting and ending year of the data\n",
    "np.sort(year_list)"
   ]
  },
  {
   "cell_type": "code",
   "execution_count": 11,
   "id": "9db6183c",
   "metadata": {},
   "outputs": [
    {
     "data": {
      "text/plain": [
       "Price         0\n",
       "Bedrooms      0\n",
       "Bathrooms     0\n",
       "SqFt          0\n",
       "City          0\n",
       "State         0\n",
       "Year_Built    0\n",
       "Type          0\n",
       "Garage        0\n",
       "Lot_Area      0\n",
       "dtype: int64"
      ]
     },
     "execution_count": 11,
     "metadata": {},
     "output_type": "execute_result"
    }
   ],
   "source": [
    "proprty_data.isna().sum()"
   ]
  },
  {
   "cell_type": "code",
   "execution_count": 12,
   "id": "4672ff8a",
   "metadata": {},
   "outputs": [
    {
     "data": {
      "text/html": [
       "<div>\n",
       "<style scoped>\n",
       "    .dataframe tbody tr th:only-of-type {\n",
       "        vertical-align: middle;\n",
       "    }\n",
       "\n",
       "    .dataframe tbody tr th {\n",
       "        vertical-align: top;\n",
       "    }\n",
       "\n",
       "    .dataframe thead th {\n",
       "        text-align: right;\n",
       "    }\n",
       "</style>\n",
       "<table border=\"1\" class=\"dataframe\">\n",
       "  <thead>\n",
       "    <tr style=\"text-align: right;\">\n",
       "      <th></th>\n",
       "      <th>Price</th>\n",
       "      <th>Bedrooms</th>\n",
       "      <th>Bathrooms</th>\n",
       "      <th>SqFt</th>\n",
       "      <th>Year_Built</th>\n",
       "      <th>Garage</th>\n",
       "      <th>Lot_Area</th>\n",
       "    </tr>\n",
       "  </thead>\n",
       "  <tbody>\n",
       "    <tr>\n",
       "      <th>count</th>\n",
       "      <td>5000.00</td>\n",
       "      <td>5000.00</td>\n",
       "      <td>5000.00</td>\n",
       "      <td>5000.00</td>\n",
       "      <td>5000.00</td>\n",
       "      <td>5000.00</td>\n",
       "      <td>5000.00</td>\n",
       "    </tr>\n",
       "    <tr>\n",
       "      <th>mean</th>\n",
       "      <td>1049955.48</td>\n",
       "      <td>2.99</td>\n",
       "      <td>1.97</td>\n",
       "      <td>2404.41</td>\n",
       "      <td>1985.83</td>\n",
       "      <td>0.49</td>\n",
       "      <td>5523.40</td>\n",
       "    </tr>\n",
       "    <tr>\n",
       "      <th>std</th>\n",
       "      <td>548340.31</td>\n",
       "      <td>1.42</td>\n",
       "      <td>0.82</td>\n",
       "      <td>923.95</td>\n",
       "      <td>21.17</td>\n",
       "      <td>0.50</td>\n",
       "      <td>2605.28</td>\n",
       "    </tr>\n",
       "    <tr>\n",
       "      <th>min</th>\n",
       "      <td>100028.00</td>\n",
       "      <td>1.00</td>\n",
       "      <td>1.00</td>\n",
       "      <td>800.00</td>\n",
       "      <td>1950.00</td>\n",
       "      <td>0.00</td>\n",
       "      <td>1001.00</td>\n",
       "    </tr>\n",
       "    <tr>\n",
       "      <th>25%</th>\n",
       "      <td>583459.50</td>\n",
       "      <td>2.00</td>\n",
       "      <td>1.00</td>\n",
       "      <td>1598.75</td>\n",
       "      <td>1967.00</td>\n",
       "      <td>0.00</td>\n",
       "      <td>3250.75</td>\n",
       "    </tr>\n",
       "    <tr>\n",
       "      <th>50%</th>\n",
       "      <td>1040834.00</td>\n",
       "      <td>3.00</td>\n",
       "      <td>2.00</td>\n",
       "      <td>2418.00</td>\n",
       "      <td>1985.00</td>\n",
       "      <td>0.00</td>\n",
       "      <td>5514.50</td>\n",
       "    </tr>\n",
       "    <tr>\n",
       "      <th>75%</th>\n",
       "      <td>1528157.75</td>\n",
       "      <td>4.00</td>\n",
       "      <td>3.00</td>\n",
       "      <td>3191.25</td>\n",
       "      <td>2004.00</td>\n",
       "      <td>1.00</td>\n",
       "      <td>7804.00</td>\n",
       "    </tr>\n",
       "    <tr>\n",
       "      <th>max</th>\n",
       "      <td>1999701.00</td>\n",
       "      <td>5.00</td>\n",
       "      <td>3.00</td>\n",
       "      <td>3998.00</td>\n",
       "      <td>2022.00</td>\n",
       "      <td>1.00</td>\n",
       "      <td>9998.00</td>\n",
       "    </tr>\n",
       "  </tbody>\n",
       "</table>\n",
       "</div>"
      ],
      "text/plain": [
       "            Price  Bedrooms  Bathrooms     SqFt  Year_Built   Garage  Lot_Area\n",
       "count     5000.00   5000.00    5000.00  5000.00     5000.00  5000.00   5000.00\n",
       "mean   1049955.48      2.99       1.97  2404.41     1985.83     0.49   5523.40\n",
       "std     548340.31      1.42       0.82   923.95       21.17     0.50   2605.28\n",
       "min     100028.00      1.00       1.00   800.00     1950.00     0.00   1001.00\n",
       "25%     583459.50      2.00       1.00  1598.75     1967.00     0.00   3250.75\n",
       "50%    1040834.00      3.00       2.00  2418.00     1985.00     0.00   5514.50\n",
       "75%    1528157.75      4.00       3.00  3191.25     2004.00     1.00   7804.00\n",
       "max    1999701.00      5.00       3.00  3998.00     2022.00     1.00   9998.00"
      ]
     },
     "execution_count": 12,
     "metadata": {},
     "output_type": "execute_result"
    }
   ],
   "source": [
    "#Summary Statistics\n",
    "stats_overview = round(proprty_data.describe(),2)\n",
    "stats_overview"
   ]
  },
  {
   "cell_type": "code",
   "execution_count": 13,
   "id": "171d157a",
   "metadata": {},
   "outputs": [
    {
     "name": "stdout",
     "output_type": "stream",
     "text": [
      "City\n",
      "Adelaide     1040\n",
      "Melbourne    1021\n",
      "Brisbane     1007\n",
      "Perth         988\n",
      "Sydney        944\n",
      "Name: count, dtype: int64\n"
     ]
    }
   ],
   "source": [
    "print(proprty_data[\"City\"].value_counts())"
   ]
  },
  {
   "cell_type": "markdown",
   "id": "396a682f",
   "metadata": {},
   "source": [
    "This dataset comprising 5000 records,accros10 distinc columns.\n",
    "It has no missing values which is confired by performing .info() , .isnull().sum() , .isna().sum() functions.\n",
    "The DataFrame is clean and ready for EDA."
   ]
  },
  {
   "cell_type": "code",
   "execution_count": null,
   "id": "b4da8c73-04bf-4027-8a3f-a859eb25715c",
   "metadata": {},
   "outputs": [],
   "source": []
  },
  {
   "cell_type": "code",
   "execution_count": null,
   "id": "109e9adf-398e-40a5-beef-acf30323ce6a",
   "metadata": {},
   "outputs": [],
   "source": []
  }
 ],
 "metadata": {
  "kernelspec": {
   "display_name": "Python 3 (ipykernel)",
   "language": "python",
   "name": "python3"
  },
  "language_info": {
   "codemirror_mode": {
    "name": "ipython",
    "version": 3
   },
   "file_extension": ".py",
   "mimetype": "text/x-python",
   "name": "python",
   "nbconvert_exporter": "python",
   "pygments_lexer": "ipython3",
   "version": "3.10.14"
  }
 },
 "nbformat": 4,
 "nbformat_minor": 5
}
